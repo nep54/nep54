{
 "cells": [
  {
   "cell_type": "markdown",
   "id": "bf1d8137",
   "metadata": {},
   "source": [
    "### Hi there, I'm Vladimir Levin - aka opa_oz 👋\n",
    "\n",
    "## I'm a Team Leader, Developer, and Mentor!\n",
    "- 🔭 I’m currently working at [Woven by Toyota]([https://woven-planet.global/en](https://woven.toyota/en))\n",
    "- 🥅 2023 Goals: Damn, I successfully moved to Japan! That's enough goals for this year!\n",
    "- ⚡ Fun fact: I hate freelancing, but I am freelancing **A LOT**\n",
    "\n",
    "### Connect with me:\n",
    "[<img align=\"left\" alt=\"opa_oz | Twitter\" width=\"22px\" src=\"https://cdn.jsdelivr.net/npm/simple-icons@v3/icons/twitter.svg\" />][twitter]\n",
    "\n",
    "[<img align=\"left\" alt=\"opa_oz | LinkedIn\" width=\"22px\" src=\"https://cdn.jsdelivr.net/npm/simple-icons@v3/icons/linkedin.svg\" />][linkedin]\n",
    "\n",
    "[<img align=\"left\" alt=\"opa_oz | Instagram\" width=\"22px\" src=\"https://cdn.jsdelivr.net/npm/simple-icons@v3/icons/instagram.svg\" />][instagram]\n",
    "\n",
    "<br />\n",
    "\n",
    "### Languages and Tools:\n",
    "<img align=\"left\" alt=\"HTML5\" width=\"26px\" src=\"https://raw.githubusercontent.com/github/explore/80688e429a7d4ef2fca1e82350fe8e3517d3494d/topics/html/html.png\" />\n",
    "<img align=\"left\" alt=\"CSS3\" width=\"26px\" src=\"https://raw.githubusercontent.com/github/explore/80688e429a7d4ef2fca1e82350fe8e3517d3494d/topics/css/css.png\" />\n",
    "<img align=\"left\" alt=\"Sass\" width=\"26px\" src=\"https://raw.githubusercontent.com/github/explore/80688e429a7d4ef2fca1e82350fe8e3517d3494d/topics/sass/sass.png\" />\n",
    "<img align=\"left\" alt=\"JavaScript\" width=\"26px\" src=\"https://raw.githubusercontent.com/github/explore/80688e429a7d4ef2fca1e82350fe8e3517d3494d/topics/javascript/javascript.png\" />\n",
    "<img align=\"left\" alt=\"React\" width=\"26px\" src=\"https://raw.githubusercontent.com/github/explore/80688e429a7d4ef2fca1e82350fe8e3517d3494d/topics/react/react.png\" />\n",
    "<img align=\"left\" alt=\"Node.js\" width=\"26px\" src=\"https://raw.githubusercontent.com/github/explore/80688e429a7d4ef2fca1e82350fe8e3517d3494d/topics/nodejs/nodejs.png\" />\n",
    "<img align=\"left\" alt=\"SQL\" width=\"26px\" src=\"https://raw.githubusercontent.com/github/explore/80688e429a7d4ef2fca1e82350fe8e3517d3494d/topics/sql/sql.png\" />\n",
    "<img align=\"left\" alt=\"MySQL\" width=\"26px\" src=\"https://raw.githubusercontent.com/github/explore/80688e429a7d4ef2fca1e82350fe8e3517d3494d/topics/mysql/mysql.png\" />\n",
    "<img align=\"left\" alt=\"MongoDB\" width=\"26px\" src=\"https://raw.githubusercontent.com/github/explore/80688e429a7d4ef2fca1e82350fe8e3517d3494d/topics/mongodb/mongodb.png\" />\n",
    "<img align=\"left\" alt=\"Git\" width=\"26px\" src=\"https://raw.githubusercontent.com/github/explore/80688e429a7d4ef2fca1e82350fe8e3517d3494d/topics/git/git.png\" />\n",
    "<img align=\"left\" alt=\"GitHub\" width=\"26px\" src=\"https://raw.githubusercontent.com/github/explore/78df643247d429f6cc873026c0622819ad797942/topics/github/github.png\" />\n",
    "<img align=\"left\" alt=\"HTML5\" width=\"26px\" src=\"https://raw.githubusercontent.com/github/explore/80688e429a7d4ef2fca1e82350fe8e3517d3494d/topics/terminal/terminal.png\" />\n",
    "\n",
    "<br />\n",
    "<br />\n",
    "\n",
    "---\n",
    "\n",
    "<img align=\"left\" alt=\"codeSTACKr's Github Stats\" src=\"https://github-readme-stats.vercel.app/api?username=opa-oz&show_icons=true&hide_border=true\" />\n",
    "\n",
    "[![Top Langs](https://github-readme-stats.vercel.app/api/top-langs/?username=opa-oz&hide=jupyter,css,scss,html,c,makefile,dockerfile,shell,cmake)](https://github.com/anuraghazra/github-readme-stats)\n",
    "\n",
    "[yandex]: https://yandex.ru/\n",
    "[twitter]: https://twitter.com/ru_opa\n",
    "[linkedin]: https://www.linkedin.com/in/opa-oz/\n",
    "[instagram]: https://www.instagram.com/opa_oz/\n"
   ]
  },
  {
   "cell_type": "markdown",
   "id": "30bffdc4",
   "metadata": {},
   "source": [
    "Привет, друг👋\n",
    "\n",
    "Меня зовут Арсений, мне 20 лет.\n",
    "В 12 лет я начал изучать Python и оставил это дело. В 19 лет я решил, что стоит снова погрузиться в процесс изучения данного языка, изучая его возможности я полюбил его, так судьба меня свела с двумя процессами: статистика и Python. Таким образом, я понял, что стоит погрузиться в сферу аналитики. В 2023 году я прошёл курс от Яндекс.Практикум, где приобрел навыки Python, Pandas, SQL, а также Tableau/ Каждый день я занмимаюсь над собой, стараюсь, как можно больше изучать информации и улучшать свои навыки.\n",
    "\n",
    "**Больше обо мне:**\n",
    "<p><a href=\"https://kostroma.hh.ru/applicant/resumes/view?resume=d2f23e43ff0b9a8b090039ed1f4d364d4e4338\">\n",
    "<img src=\"https://upload.wikimedia.org/wikipedia/commons/thumb/7/79/HeadHunter_logo.png/640px-HeadHunter_logo.png\" height=25></a>\n",
    "  \n",
    "**Связь со мной:**\n",
    " \n",
    "<a href=\"https://vk.com/dolgiyarseniy\"><img src=\"https://free-png.ru/wp-content/uploads/2022/02/free-png.ru-307.png\" height=25></a> <a href=\"https://t.me/hehehahahlhl\">\n",
    "<img src=\"https://cdn.icon-icons.com/icons2/2108/PNG/512/telegram_icon_130816.png\" height=25></a>\n",
    "<a href=\"https://www.instagram.com/hehehahahlhl/\"> <img src=\"https://pngicon.ru/file/uploads/instagram.png\" height=25></a> \n",
    "   "
   ]
  },
  {
   "cell_type": "code",
   "execution_count": null,
   "id": "617c2fd3",
   "metadata": {},
   "outputs": [],
   "source": []
  }
 ],
 "metadata": {
  "kernelspec": {
   "display_name": "Python 3 (ipykernel)",
   "language": "python",
   "name": "python3"
  },
  "language_info": {
   "codemirror_mode": {
    "name": "ipython",
    "version": 3
   },
   "file_extension": ".py",
   "mimetype": "text/x-python",
   "name": "python",
   "nbconvert_exporter": "python",
   "pygments_lexer": "ipython3",
   "version": "3.9.13"
  }
 },
 "nbformat": 4,
 "nbformat_minor": 5
}
